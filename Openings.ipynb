{
 "cells": [
  {
   "cell_type": "markdown",
   "metadata": {},
   "source": [
    "### Playing around with chess .pgn files\n",
    "\n",
    "On what squares are pieces captured most? Does this change based on the opening?\n",
    "\n",
    "\n",
    "Data from the Kingbase database: https://www.kingbase-chess.net/ , contains hundreds of thousands of master level games."
   ]
  },
  {
   "cell_type": "code",
   "execution_count": 1,
   "metadata": {},
   "outputs": [],
   "source": [
    "from opening_analyzer import OpeningAnalyzer\n",
    "import pickle"
   ]
  },
  {
   "cell_type": "markdown",
   "metadata": {},
   "source": [
    "The associated .py files contain all the processing/calculations - this notebook is only for visualization"
   ]
  },
  {
   "cell_type": "code",
   "execution_count": 2,
   "metadata": {},
   "outputs": [],
   "source": [
    "\n",
    "with open('all_processed_data.pkl', 'rb') as handle:\n",
    "    game_dict_openings = pickle.load(handle)\n",
    "    analyzer = OpeningAnalyzer(game_dict_openings)"
   ]
  },
  {
   "cell_type": "markdown",
   "metadata": {},
   "source": [
    "The Evans gambit - 1.e4 e5 2.Nf3 Nc6 3.Bc4 Bc5 4.b4\n",
    "\n",
    "The most common response is Bxb4 - and we see a corresponding hotspot on the b4 square"
   ]
  },
  {
   "cell_type": "code",
   "execution_count": 27,
   "metadata": {},
   "outputs": [
    {
     "data": {
      "image/png": "[encoded data removed]",
      "text/plain": [
       "<Figure size 432x288 with 2 Axes>"
      ]
     },
     "metadata": {
      "needs_background": "light"
     },
     "output_type": "display_data"
    }
   ],
   "source": [
    "analyzer.plot_chessboard(analyzer.create_capture_board(['C52']))"
   ]
  },
  {
   "cell_type": "markdown",
   "metadata": {},
   "source": [
    "C89 - the Ruy Lopez Marshall attack -1 e4 e5 2 Nf3 Nc6 3 Bb5 a6 4 Ba4 Nf6 5 O-O Be7 6 Re1 b5 7 Bb3 O-O 8 c3 d5\n",
    "\n",
    "We see hotspots on the characteristic d5 and e5 squares"
   ]
  },
  {
   "cell_type": "code",
   "execution_count": 4,
   "metadata": {},
   "outputs": [
    {
     "data": {
      "image/png": "[encoded data removed]",
      "text/plain": [
       "<Figure size 432x288 with 2 Axes>"
      ]
     },
     "metadata": {
      "needs_background": "light"
     },
     "output_type": "display_data"
    }
   ],
   "source": [
    "analyzer.plot_chessboard(analyzer.create_capture_board(['C89']))"
   ]
  },
  {
   "cell_type": "code",
   "execution_count": null,
   "metadata": {},
   "outputs": [],
   "source": []
  }
 ],
 "metadata": {
  "kernelspec": {
   "display_name": "Python 3",
   "language": "python",
   "name": "python3"
  },
  "language_info": {
   "codemirror_mode": {
    "name": "ipython",
    "version": 3
   },
   "file_extension": ".py",
   "mimetype": "text/x-python",
   "name": "python",
   "nbconvert_exporter": "python",
   "pygments_lexer": "ipython3",
   "version": "3.6.9"
  }
 },
 "nbformat": 4,
 "nbformat_minor": 2
}
